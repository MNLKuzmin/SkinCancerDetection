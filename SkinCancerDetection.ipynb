{
 "cells": [
  {
   "cell_type": "markdown",
   "id": "478baa77",
   "metadata": {},
   "source": [
    "Skin cancer detection"
   ]
  },
  {
   "cell_type": "code",
   "execution_count": 1,
   "id": "6075eb98",
   "metadata": {},
   "outputs": [],
   "source": [
    "from keras_preprocessing.image import ImageDataGenerator, array_to_img, img_to_array, load_img\n",
    "import numpy as np\n",
    "import os, shutil\n",
    "import pandas as pd\n",
    "\n",
    "import sys\n",
    "module_path = os.path.abspath(os.path.join(os.pardir, os.pardir))\n",
    "if module_path not in sys.path:\n",
    "    sys.path.append(module_path)\n",
    "    \n",
    "from matplotlib import pyplot as plt\n",
    "import matplotlib.image as mpimg\n",
    "from sklearn.model_selection import train_test_split, cross_val_score\n",
    "from sklearn.datasets import load_digits, load_sample_images\n",
    "\n",
    "from sklearn.preprocessing import OneHotEncoder\n",
    "from sklearn.metrics import accuracy_score, confusion_matrix\n",
    "from sklearn.pipeline import Pipeline\n",
    "from sklearn.preprocessing import FunctionTransformer\n",
    "import seaborn as sns\n",
    "\n",
    "import tensorflow as tf\n",
    "from matplotlib import pyplot as plt\n",
    "from tensorflow.keras import datasets, layers, models\n",
    "\n",
    "import keras\n",
    "from tensorflow.keras.models import Sequential\n",
    "from tensorflow.keras.layers import Dense\n",
    "\n",
    "#%load_ext autoreload\n",
    "#%autoreload 2"
   ]
  },
  {
   "cell_type": "code",
   "execution_count": 2,
   "id": "52cf7937",
   "metadata": {},
   "outputs": [
    {
     "name": "stdout",
     "output_type": "stream",
     "text": [
      "Found 118 images belonging to 9 classes.\n",
      "Found 2239 images belonging to 9 classes.\n"
     ]
    }
   ],
   "source": [
    "# Directory path\n",
    "train_data_dir = 'dataskin/Train'\n",
    "test_data_dir = 'dataskin/Test'\n",
    "#val_data_dir = 'dataset/validation_set'\n",
    "\n",
    "# Get all the data in the directory data/validation (132 images), and reshape them\n",
    "test_generator = ImageDataGenerator().flow_from_directory(\n",
    "        test_data_dir, batch_size=118)\n",
    "\n",
    "# Get all the data in the directory data/train (790 images), and reshape them\n",
    "train_generator = ImageDataGenerator().flow_from_directory(\n",
    "        train_data_dir, batch_size=2239)\n",
    "\n",
    "# Get all the data in the directory data/validation (132 images), and reshape them\n",
    "#val_generator = ImageDataGenerator().flow_from_directory(\n",
    "#        val_data_dir, classes=['test'])\n",
    "\n",
    "# Create the datasets\n",
    "train_images, train_labels = next(train_generator)\n",
    "test_images, test_labels = next(test_generator)\n",
    "#val_images, val_labels = next(val_generator)"
   ]
  },
  {
   "cell_type": "code",
   "execution_count": 3,
   "id": "39b94969",
   "metadata": {},
   "outputs": [
    {
     "data": {
      "text/plain": [
       "array([[[[182., 154., 169.],\n",
       "         [181., 153., 168.],\n",
       "         [181., 153., 168.],\n",
       "         ...,\n",
       "         [107.,  74.,  93.],\n",
       "         [105.,  72.,  91.],\n",
       "         [108.,  75.,  94.]],\n",
       "\n",
       "        [[178., 150., 164.],\n",
       "         [180., 152., 166.],\n",
       "         [183., 155., 169.],\n",
       "         ...,\n",
       "         [106.,  73.,  92.],\n",
       "         [105.,  72.,  89.],\n",
       "         [109.,  76.,  93.]],\n",
       "\n",
       "        [[176., 148., 163.],\n",
       "         [179., 151., 166.],\n",
       "         [181., 153., 167.],\n",
       "         ...,\n",
       "         [106.,  73.,  90.],\n",
       "         [106.,  73.,  90.],\n",
       "         [111.,  78.,  95.]],\n",
       "\n",
       "        ...,\n",
       "\n",
       "        [[194., 164., 174.],\n",
       "         [194., 164., 176.],\n",
       "         [195., 164., 179.],\n",
       "         ...,\n",
       "         [ 68.,  52.,  81.],\n",
       "         [ 98.,  47.,  56.],\n",
       "         [107.,  71.,  71.]],\n",
       "\n",
       "        [[192., 162., 174.],\n",
       "         [189., 159., 171.],\n",
       "         [191., 160., 175.],\n",
       "         ...,\n",
       "         [ 80.,  47.,  76.],\n",
       "         [101.,  49.,  51.],\n",
       "         [117.,  73.,  86.]],\n",
       "\n",
       "        [[185., 155., 167.],\n",
       "         [189., 159., 171.],\n",
       "         [183., 152., 167.],\n",
       "         ...,\n",
       "         [ 78.,  43.,  73.],\n",
       "         [104.,  53.,  52.],\n",
       "         [113.,  75.,  86.]]],\n",
       "\n",
       "\n",
       "       [[[ 39.,  24.,  17.],\n",
       "         [ 42.,  27.,  20.],\n",
       "         [ 48.,  31.,  23.],\n",
       "         ...,\n",
       "         [ 22.,  14.,  12.],\n",
       "         [ 18.,  13.,  10.],\n",
       "         [ 15.,  11.,  10.]],\n",
       "\n",
       "        [[ 39.,  25.,  16.],\n",
       "         [ 43.,  29.,  20.],\n",
       "         [ 48.,  31.,  21.],\n",
       "         ...,\n",
       "         [ 24.,  14.,  13.],\n",
       "         [ 20.,  15.,  12.],\n",
       "         [ 16.,  12.,  11.]],\n",
       "\n",
       "        [[ 43.,  26.,  18.],\n",
       "         [ 45.,  28.,  20.],\n",
       "         [ 51.,  33.,  23.],\n",
       "         ...,\n",
       "         [ 27.,  17.,  16.],\n",
       "         [ 23.,  15.,  13.],\n",
       "         [ 18.,  13.,  10.]],\n",
       "\n",
       "        ...,\n",
       "\n",
       "        [[ 58.,  39.,  33.],\n",
       "         [ 65.,  45.,  38.],\n",
       "         [ 74.,  51.,  43.],\n",
       "         ...,\n",
       "         [ 38.,  22.,  22.],\n",
       "         [ 35.,  21.,  20.],\n",
       "         [ 29.,  18.,  16.]],\n",
       "\n",
       "        [[ 54.,  37.,  30.],\n",
       "         [ 63.,  42.,  37.],\n",
       "         [ 70.,  47.,  41.],\n",
       "         ...,\n",
       "         [ 38.,  22.,  22.],\n",
       "         [ 34.,  20.,  19.],\n",
       "         [ 30.,  19.,  17.]],\n",
       "\n",
       "        [[ 51.,  34.,  27.],\n",
       "         [ 60.,  39.,  34.],\n",
       "         [ 68.,  43.,  39.],\n",
       "         ...,\n",
       "         [ 37.,  21.,  21.],\n",
       "         [ 32.,  18.,  17.],\n",
       "         [ 28.,  17.,  15.]]],\n",
       "\n",
       "\n",
       "       [[[153., 141., 127.],\n",
       "         [161., 142., 125.],\n",
       "         [157., 138., 123.],\n",
       "         ...,\n",
       "         [ 93.,  88.,  85.],\n",
       "         [ 85.,  81.,  78.],\n",
       "         [ 77.,  76.,  72.]],\n",
       "\n",
       "        [[155., 146., 131.],\n",
       "         [160., 143., 125.],\n",
       "         [157., 138., 123.],\n",
       "         ...,\n",
       "         [ 96.,  91.,  88.],\n",
       "         [ 90.,  86.,  83.],\n",
       "         [ 86.,  85.,  81.]],\n",
       "\n",
       "        [[157., 150., 134.],\n",
       "         [158., 143., 124.],\n",
       "         [157., 140., 124.],\n",
       "         ...,\n",
       "         [ 99.,  94.,  90.],\n",
       "         [ 93.,  90.,  85.],\n",
       "         [ 93.,  92.,  87.]],\n",
       "\n",
       "        ...,\n",
       "\n",
       "        [[159., 141., 127.],\n",
       "         [159., 141., 127.],\n",
       "         [159., 141., 127.],\n",
       "         ...,\n",
       "         [155., 138., 118.],\n",
       "         [156., 139., 119.],\n",
       "         [154., 137., 117.]],\n",
       "\n",
       "        [[161., 143., 129.],\n",
       "         [161., 143., 129.],\n",
       "         [161., 143., 129.],\n",
       "         ...,\n",
       "         [157., 140., 120.],\n",
       "         [156., 139., 119.],\n",
       "         [155., 138., 118.]],\n",
       "\n",
       "        [[165., 147., 133.],\n",
       "         [165., 147., 133.],\n",
       "         [163., 145., 131.],\n",
       "         ...,\n",
       "         [159., 142., 122.],\n",
       "         [157., 140., 120.],\n",
       "         [156., 139., 119.]]],\n",
       "\n",
       "\n",
       "       ...,\n",
       "\n",
       "\n",
       "       [[[193., 147., 176.],\n",
       "         [195., 152., 179.],\n",
       "         [196., 156., 182.],\n",
       "         ...,\n",
       "         [195., 153., 177.],\n",
       "         [195., 152., 179.],\n",
       "         [199., 157., 181.]],\n",
       "\n",
       "        [[195., 150., 179.],\n",
       "         [197., 152., 181.],\n",
       "         [199., 155., 182.],\n",
       "         ...,\n",
       "         [194., 151., 179.],\n",
       "         [196., 156., 180.],\n",
       "         [198., 154., 181.]],\n",
       "\n",
       "        [[192., 152., 179.],\n",
       "         [195., 152., 180.],\n",
       "         [196., 156., 182.],\n",
       "         ...,\n",
       "         [197., 154., 181.],\n",
       "         [194., 154., 178.],\n",
       "         [195., 150., 179.]],\n",
       "\n",
       "        ...,\n",
       "\n",
       "        [[200., 157., 184.],\n",
       "         [201., 159., 183.],\n",
       "         [203., 161., 185.],\n",
       "         ...,\n",
       "         [196., 152., 185.],\n",
       "         [198., 153., 184.],\n",
       "         [198., 154., 181.]],\n",
       "\n",
       "        [[201., 159., 183.],\n",
       "         [201., 159., 181.],\n",
       "         [204., 162., 186.],\n",
       "         ...,\n",
       "         [197., 155., 191.],\n",
       "         [193., 156., 189.],\n",
       "         [194., 159., 191.]],\n",
       "\n",
       "        [[201., 159., 183.],\n",
       "         [202., 160., 184.],\n",
       "         [205., 163., 187.],\n",
       "         ...,\n",
       "         [198., 157., 191.],\n",
       "         [194., 157., 190.],\n",
       "         [194., 159., 191.]]],\n",
       "\n",
       "\n",
       "       [[[167., 132., 130.],\n",
       "         [168., 133., 131.],\n",
       "         [170., 135., 133.],\n",
       "         ...,\n",
       "         [159., 122., 116.],\n",
       "         [154., 116., 107.],\n",
       "         [156., 118., 107.]],\n",
       "\n",
       "        [[168., 134., 132.],\n",
       "         [166., 131., 129.],\n",
       "         [171., 136., 134.],\n",
       "         ...,\n",
       "         [156., 118., 117.],\n",
       "         [157., 119., 110.],\n",
       "         [154., 116., 107.]],\n",
       "\n",
       "        [[176., 138., 137.],\n",
       "         [170., 135., 133.],\n",
       "         [145., 111., 110.],\n",
       "         ...,\n",
       "         [159., 122., 116.],\n",
       "         [161., 123., 114.],\n",
       "         [158., 119., 112.]],\n",
       "\n",
       "        ...,\n",
       "\n",
       "        [[193., 163., 163.],\n",
       "         [189., 161., 158.],\n",
       "         [183., 157., 160.],\n",
       "         ...,\n",
       "         [158., 112.,  96.],\n",
       "         [172., 120., 106.],\n",
       "         [165., 125., 113.]],\n",
       "\n",
       "        [[190., 159., 157.],\n",
       "         [189., 158., 156.],\n",
       "         [193., 163., 163.],\n",
       "         ...,\n",
       "         [160., 111.,  96.],\n",
       "         [160., 117., 100.],\n",
       "         [159., 121., 110.]],\n",
       "\n",
       "        [[191., 159., 162.],\n",
       "         [189., 159., 159.],\n",
       "         [189., 159., 157.],\n",
       "         ...,\n",
       "         [157., 115.,  99.],\n",
       "         [161., 118., 101.],\n",
       "         [165., 119., 103.]]],\n",
       "\n",
       "\n",
       "       [[[228., 175., 201.],\n",
       "         [234., 181., 207.],\n",
       "         [227., 172., 195.],\n",
       "         ...,\n",
       "         [225., 167., 191.],\n",
       "         [226., 171., 202.],\n",
       "         [222., 169., 197.]],\n",
       "\n",
       "        [[231., 180., 197.],\n",
       "         [225., 171., 195.],\n",
       "         [228., 175., 195.],\n",
       "         ...,\n",
       "         [217., 168., 190.],\n",
       "         [225., 173., 195.],\n",
       "         [224., 172., 194.]],\n",
       "\n",
       "        [[221., 167., 191.],\n",
       "         [225., 169., 194.],\n",
       "         [223., 165., 190.],\n",
       "         ...,\n",
       "         [222., 169., 187.],\n",
       "         [222., 168., 192.],\n",
       "         [223., 171., 194.]],\n",
       "\n",
       "        ...,\n",
       "\n",
       "        [[208., 151., 168.],\n",
       "         [205., 148., 167.],\n",
       "         [205., 147., 169.],\n",
       "         ...,\n",
       "         [207., 161., 172.],\n",
       "         [215., 165., 177.],\n",
       "         [214., 162., 175.]],\n",
       "\n",
       "        [[205., 146., 166.],\n",
       "         [199., 137., 152.],\n",
       "         [207., 148., 166.],\n",
       "         ...,\n",
       "         [220., 161., 179.],\n",
       "         [212., 159., 167.],\n",
       "         [213., 160., 176.]],\n",
       "\n",
       "        [[207., 150., 165.],\n",
       "         [210., 149., 165.],\n",
       "         [211., 152., 170.],\n",
       "         ...,\n",
       "         [213., 160., 176.],\n",
       "         [214., 161., 181.],\n",
       "         [209., 159., 171.]]]], dtype=float32)"
      ]
     },
     "execution_count": 3,
     "metadata": {},
     "output_type": "execute_result"
    }
   ],
   "source": [
    "train_images"
   ]
  },
  {
   "cell_type": "code",
   "execution_count": 4,
   "id": "07c5633b",
   "metadata": {},
   "outputs": [
    {
     "data": {
      "image/png": "[encoded data removed]",
      "text/plain": [
       "<PIL.Image.Image image mode=RGB size=256x256 at 0x7FE54EBEECC0>"
      ]
     },
     "execution_count": 4,
     "metadata": {},
     "output_type": "execute_result"
    }
   ],
   "source": [
    "# Preview an image\n",
    "array_to_img(train_images[0])"
   ]
  },
  {
   "cell_type": "code",
   "execution_count": 5,
   "id": "fd44f2a7",
   "metadata": {},
   "outputs": [
    {
     "data": {
      "image/png": "[encoded data removed]",
      "text/plain": [
       "<PIL.Image.Image image mode=RGB size=256x256 at 0x7FE54EBEE320>"
      ]
     },
     "execution_count": 5,
     "metadata": {},
     "output_type": "execute_result"
    }
   ],
   "source": [
    "# Preview an image\n",
    "array_to_img(test_images[0])"
   ]
  },
  {
   "cell_type": "code",
   "execution_count": 6,
   "id": "6adf1c25",
   "metadata": {},
   "outputs": [
    {
     "data": {
      "text/plain": [
       "(2239, 9)"
      ]
     },
     "execution_count": 6,
     "metadata": {},
     "output_type": "execute_result"
    }
   ],
   "source": [
    "train_labels.shape"
   ]
  },
  {
   "cell_type": "code",
   "execution_count": 7,
   "id": "9ce1052c",
   "metadata": {},
   "outputs": [
    {
     "data": {
      "text/plain": [
       "(118, 9)"
      ]
     },
     "execution_count": 7,
     "metadata": {},
     "output_type": "execute_result"
    }
   ],
   "source": [
    "test_labels.shape"
   ]
  },
  {
   "cell_type": "code",
   "execution_count": 8,
   "id": "2e0a88da",
   "metadata": {},
   "outputs": [
    {
     "data": {
      "text/plain": [
       "(118, 256, 256, 3)"
      ]
     },
     "execution_count": 8,
     "metadata": {},
     "output_type": "execute_result"
    }
   ],
   "source": [
    "test_images.shape"
   ]
  },
  {
   "cell_type": "code",
   "execution_count": 9,
   "id": "0eedc5e9",
   "metadata": {},
   "outputs": [
    {
     "data": {
      "text/plain": [
       "(2239, 256, 256, 3)"
      ]
     },
     "execution_count": 9,
     "metadata": {},
     "output_type": "execute_result"
    }
   ],
   "source": [
    "train_images.shape"
   ]
  },
  {
   "cell_type": "code",
   "execution_count": 10,
   "id": "b905fbb5",
   "metadata": {},
   "outputs": [
    {
     "data": {
      "text/plain": [
       "array([[0., 0., 0., ..., 0., 0., 0.],\n",
       "       [0., 0., 0., ..., 1., 0., 0.],\n",
       "       [0., 0., 0., ..., 0., 0., 0.],\n",
       "       ...,\n",
       "       [0., 0., 0., ..., 0., 0., 0.],\n",
       "       [0., 0., 0., ..., 0., 0., 0.],\n",
       "       [0., 0., 1., ..., 0., 0., 0.]], dtype=float32)"
      ]
     },
     "execution_count": 10,
     "metadata": {},
     "output_type": "execute_result"
    }
   ],
   "source": [
    "train_labels"
   ]
  },
  {
   "cell_type": "code",
   "execution_count": 11,
   "id": "7c004a4e",
   "metadata": {},
   "outputs": [
    {
     "data": {
      "text/plain": [
       "numpy.ndarray"
      ]
     },
     "execution_count": 11,
     "metadata": {},
     "output_type": "execute_result"
    }
   ],
   "source": [
    "type(train_labels)"
   ]
  },
  {
   "cell_type": "code",
   "execution_count": 12,
   "id": "2c07d9a5",
   "metadata": {},
   "outputs": [
    {
     "data": {
      "text/plain": [
       "numpy.ndarray"
      ]
     },
     "execution_count": 12,
     "metadata": {},
     "output_type": "execute_result"
    }
   ],
   "source": [
    "type(train_images)"
   ]
  },
  {
   "cell_type": "code",
   "execution_count": 13,
   "id": "2985fbc5",
   "metadata": {},
   "outputs": [],
   "source": [
    "dataframe=pd.DataFrame(train_labels, columns=['actinic_keratosis', 'basal_cell_carcinoma',\\\n",
    "            'dermatofibroma', 'melanoma', 'nevus', 'pigmented_benign_keratosis',\\\n",
    "            'seborrheic_keratosis', 'squamous_cell_carcinoma', 'vascular_lesion'])"
   ]
  },
  {
   "cell_type": "code",
   "execution_count": 14,
   "id": "d5cb751f",
   "metadata": {},
   "outputs": [
    {
     "data": {
      "text/html": [
       "<div>\n",
       "<style scoped>\n",
       "    .dataframe tbody tr th:only-of-type {\n",
       "        vertical-align: middle;\n",
       "    }\n",
       "\n",
       "    .dataframe tbody tr th {\n",
       "        vertical-align: top;\n",
       "    }\n",
       "\n",
       "    .dataframe thead th {\n",
       "        text-align: right;\n",
       "    }\n",
       "</style>\n",
       "<table border=\"1\" class=\"dataframe\">\n",
       "  <thead>\n",
       "    <tr style=\"text-align: right;\">\n",
       "      <th></th>\n",
       "      <th>actinic_keratosis</th>\n",
       "      <th>basal_cell_carcinoma</th>\n",
       "      <th>dermatofibroma</th>\n",
       "      <th>melanoma</th>\n",
       "      <th>nevus</th>\n",
       "      <th>pigmented_benign_keratosis</th>\n",
       "      <th>seborrheic_keratosis</th>\n",
       "      <th>squamous_cell_carcinoma</th>\n",
       "      <th>vascular_lesion</th>\n",
       "    </tr>\n",
       "  </thead>\n",
       "  <tbody>\n",
       "    <tr>\n",
       "      <th>0</th>\n",
       "      <td>0.0</td>\n",
       "      <td>0.0</td>\n",
       "      <td>0.0</td>\n",
       "      <td>0.0</td>\n",
       "      <td>0.0</td>\n",
       "      <td>1.0</td>\n",
       "      <td>0.0</td>\n",
       "      <td>0.0</td>\n",
       "      <td>0.0</td>\n",
       "    </tr>\n",
       "    <tr>\n",
       "      <th>1</th>\n",
       "      <td>0.0</td>\n",
       "      <td>0.0</td>\n",
       "      <td>0.0</td>\n",
       "      <td>0.0</td>\n",
       "      <td>0.0</td>\n",
       "      <td>0.0</td>\n",
       "      <td>1.0</td>\n",
       "      <td>0.0</td>\n",
       "      <td>0.0</td>\n",
       "    </tr>\n",
       "    <tr>\n",
       "      <th>2</th>\n",
       "      <td>0.0</td>\n",
       "      <td>0.0</td>\n",
       "      <td>0.0</td>\n",
       "      <td>1.0</td>\n",
       "      <td>0.0</td>\n",
       "      <td>0.0</td>\n",
       "      <td>0.0</td>\n",
       "      <td>0.0</td>\n",
       "      <td>0.0</td>\n",
       "    </tr>\n",
       "    <tr>\n",
       "      <th>3</th>\n",
       "      <td>0.0</td>\n",
       "      <td>0.0</td>\n",
       "      <td>0.0</td>\n",
       "      <td>1.0</td>\n",
       "      <td>0.0</td>\n",
       "      <td>0.0</td>\n",
       "      <td>0.0</td>\n",
       "      <td>0.0</td>\n",
       "      <td>0.0</td>\n",
       "    </tr>\n",
       "    <tr>\n",
       "      <th>4</th>\n",
       "      <td>0.0</td>\n",
       "      <td>1.0</td>\n",
       "      <td>0.0</td>\n",
       "      <td>0.0</td>\n",
       "      <td>0.0</td>\n",
       "      <td>0.0</td>\n",
       "      <td>0.0</td>\n",
       "      <td>0.0</td>\n",
       "      <td>0.0</td>\n",
       "    </tr>\n",
       "    <tr>\n",
       "      <th>...</th>\n",
       "      <td>...</td>\n",
       "      <td>...</td>\n",
       "      <td>...</td>\n",
       "      <td>...</td>\n",
       "      <td>...</td>\n",
       "      <td>...</td>\n",
       "      <td>...</td>\n",
       "      <td>...</td>\n",
       "      <td>...</td>\n",
       "    </tr>\n",
       "    <tr>\n",
       "      <th>2234</th>\n",
       "      <td>0.0</td>\n",
       "      <td>0.0</td>\n",
       "      <td>0.0</td>\n",
       "      <td>0.0</td>\n",
       "      <td>0.0</td>\n",
       "      <td>1.0</td>\n",
       "      <td>0.0</td>\n",
       "      <td>0.0</td>\n",
       "      <td>0.0</td>\n",
       "    </tr>\n",
       "    <tr>\n",
       "      <th>2235</th>\n",
       "      <td>0.0</td>\n",
       "      <td>0.0</td>\n",
       "      <td>0.0</td>\n",
       "      <td>0.0</td>\n",
       "      <td>1.0</td>\n",
       "      <td>0.0</td>\n",
       "      <td>0.0</td>\n",
       "      <td>0.0</td>\n",
       "      <td>0.0</td>\n",
       "    </tr>\n",
       "    <tr>\n",
       "      <th>2236</th>\n",
       "      <td>0.0</td>\n",
       "      <td>0.0</td>\n",
       "      <td>0.0</td>\n",
       "      <td>0.0</td>\n",
       "      <td>1.0</td>\n",
       "      <td>0.0</td>\n",
       "      <td>0.0</td>\n",
       "      <td>0.0</td>\n",
       "      <td>0.0</td>\n",
       "    </tr>\n",
       "    <tr>\n",
       "      <th>2237</th>\n",
       "      <td>0.0</td>\n",
       "      <td>0.0</td>\n",
       "      <td>0.0</td>\n",
       "      <td>0.0</td>\n",
       "      <td>0.0</td>\n",
       "      <td>1.0</td>\n",
       "      <td>0.0</td>\n",
       "      <td>0.0</td>\n",
       "      <td>0.0</td>\n",
       "    </tr>\n",
       "    <tr>\n",
       "      <th>2238</th>\n",
       "      <td>0.0</td>\n",
       "      <td>0.0</td>\n",
       "      <td>1.0</td>\n",
       "      <td>0.0</td>\n",
       "      <td>0.0</td>\n",
       "      <td>0.0</td>\n",
       "      <td>0.0</td>\n",
       "      <td>0.0</td>\n",
       "      <td>0.0</td>\n",
       "    </tr>\n",
       "  </tbody>\n",
       "</table>\n",
       "<p>2239 rows × 9 columns</p>\n",
       "</div>"
      ],
      "text/plain": [
       "      actinic_keratosis  basal_cell_carcinoma  dermatofibroma  melanoma  \\\n",
       "0                   0.0                   0.0             0.0       0.0   \n",
       "1                   0.0                   0.0             0.0       0.0   \n",
       "2                   0.0                   0.0             0.0       1.0   \n",
       "3                   0.0                   0.0             0.0       1.0   \n",
       "4                   0.0                   1.0             0.0       0.0   \n",
       "...                 ...                   ...             ...       ...   \n",
       "2234                0.0                   0.0             0.0       0.0   \n",
       "2235                0.0                   0.0             0.0       0.0   \n",
       "2236                0.0                   0.0             0.0       0.0   \n",
       "2237                0.0                   0.0             0.0       0.0   \n",
       "2238                0.0                   0.0             1.0       0.0   \n",
       "\n",
       "      nevus  pigmented_benign_keratosis  seborrheic_keratosis  \\\n",
       "0       0.0                         1.0                   0.0   \n",
       "1       0.0                         0.0                   1.0   \n",
       "2       0.0                         0.0                   0.0   \n",
       "3       0.0                         0.0                   0.0   \n",
       "4       0.0                         0.0                   0.0   \n",
       "...     ...                         ...                   ...   \n",
       "2234    0.0                         1.0                   0.0   \n",
       "2235    1.0                         0.0                   0.0   \n",
       "2236    1.0                         0.0                   0.0   \n",
       "2237    0.0                         1.0                   0.0   \n",
       "2238    0.0                         0.0                   0.0   \n",
       "\n",
       "      squamous_cell_carcinoma  vascular_lesion  \n",
       "0                         0.0              0.0  \n",
       "1                         0.0              0.0  \n",
       "2                         0.0              0.0  \n",
       "3                         0.0              0.0  \n",
       "4                         0.0              0.0  \n",
       "...                       ...              ...  \n",
       "2234                      0.0              0.0  \n",
       "2235                      0.0              0.0  \n",
       "2236                      0.0              0.0  \n",
       "2237                      0.0              0.0  \n",
       "2238                      0.0              0.0  \n",
       "\n",
       "[2239 rows x 9 columns]"
      ]
     },
     "execution_count": 14,
     "metadata": {},
     "output_type": "execute_result"
    }
   ],
   "source": [
    "dataframe"
   ]
  },
  {
   "cell_type": "code",
   "execution_count": 15,
   "id": "5263386f",
   "metadata": {},
   "outputs": [],
   "source": [
    "#dataframe.hist()"
   ]
  },
  {
   "cell_type": "code",
   "execution_count": 16,
   "id": "10953ce8",
   "metadata": {},
   "outputs": [],
   "source": [
    "sums=dataframe.sum(axis=0)"
   ]
  },
  {
   "cell_type": "code",
   "execution_count": 17,
   "id": "2a925d1d",
   "metadata": {},
   "outputs": [],
   "source": [
    "sums=pd.DataFrame(sums)"
   ]
  },
  {
   "cell_type": "code",
   "execution_count": 18,
   "id": "81cc84ea",
   "metadata": {},
   "outputs": [
    {
     "data": {
      "text/html": [
       "<div>\n",
       "<style scoped>\n",
       "    .dataframe tbody tr th:only-of-type {\n",
       "        vertical-align: middle;\n",
       "    }\n",
       "\n",
       "    .dataframe tbody tr th {\n",
       "        vertical-align: top;\n",
       "    }\n",
       "\n",
       "    .dataframe thead th {\n",
       "        text-align: right;\n",
       "    }\n",
       "</style>\n",
       "<table border=\"1\" class=\"dataframe\">\n",
       "  <thead>\n",
       "    <tr style=\"text-align: right;\">\n",
       "      <th></th>\n",
       "      <th>0</th>\n",
       "    </tr>\n",
       "  </thead>\n",
       "  <tbody>\n",
       "    <tr>\n",
       "      <th>actinic_keratosis</th>\n",
       "      <td>114.0</td>\n",
       "    </tr>\n",
       "    <tr>\n",
       "      <th>basal_cell_carcinoma</th>\n",
       "      <td>376.0</td>\n",
       "    </tr>\n",
       "    <tr>\n",
       "      <th>dermatofibroma</th>\n",
       "      <td>95.0</td>\n",
       "    </tr>\n",
       "    <tr>\n",
       "      <th>melanoma</th>\n",
       "      <td>438.0</td>\n",
       "    </tr>\n",
       "    <tr>\n",
       "      <th>nevus</th>\n",
       "      <td>357.0</td>\n",
       "    </tr>\n",
       "    <tr>\n",
       "      <th>pigmented_benign_keratosis</th>\n",
       "      <td>462.0</td>\n",
       "    </tr>\n",
       "    <tr>\n",
       "      <th>seborrheic_keratosis</th>\n",
       "      <td>77.0</td>\n",
       "    </tr>\n",
       "    <tr>\n",
       "      <th>squamous_cell_carcinoma</th>\n",
       "      <td>181.0</td>\n",
       "    </tr>\n",
       "    <tr>\n",
       "      <th>vascular_lesion</th>\n",
       "      <td>139.0</td>\n",
       "    </tr>\n",
       "  </tbody>\n",
       "</table>\n",
       "</div>"
      ],
      "text/plain": [
       "                                0\n",
       "actinic_keratosis           114.0\n",
       "basal_cell_carcinoma        376.0\n",
       "dermatofibroma               95.0\n",
       "melanoma                    438.0\n",
       "nevus                       357.0\n",
       "pigmented_benign_keratosis  462.0\n",
       "seborrheic_keratosis         77.0\n",
       "squamous_cell_carcinoma     181.0\n",
       "vascular_lesion             139.0"
      ]
     },
     "execution_count": 18,
     "metadata": {},
     "output_type": "execute_result"
    }
   ],
   "source": [
    "sums"
   ]
  },
  {
   "cell_type": "code",
   "execution_count": 19,
   "id": "506dd183",
   "metadata": {},
   "outputs": [],
   "source": [
    "sums['%'] = ((sums[0] / 2239*100).round(2).astype(str) + '%')"
   ]
  },
  {
   "cell_type": "code",
   "execution_count": 20,
   "id": "1a0d6c3f",
   "metadata": {},
   "outputs": [
    {
     "data": {
      "text/html": [
       "<div>\n",
       "<style scoped>\n",
       "    .dataframe tbody tr th:only-of-type {\n",
       "        vertical-align: middle;\n",
       "    }\n",
       "\n",
       "    .dataframe tbody tr th {\n",
       "        vertical-align: top;\n",
       "    }\n",
       "\n",
       "    .dataframe thead th {\n",
       "        text-align: right;\n",
       "    }\n",
       "</style>\n",
       "<table border=\"1\" class=\"dataframe\">\n",
       "  <thead>\n",
       "    <tr style=\"text-align: right;\">\n",
       "      <th></th>\n",
       "      <th>0</th>\n",
       "      <th>%</th>\n",
       "    </tr>\n",
       "  </thead>\n",
       "  <tbody>\n",
       "    <tr>\n",
       "      <th>actinic_keratosis</th>\n",
       "      <td>114.0</td>\n",
       "      <td>5.09%</td>\n",
       "    </tr>\n",
       "    <tr>\n",
       "      <th>basal_cell_carcinoma</th>\n",
       "      <td>376.0</td>\n",
       "      <td>16.79%</td>\n",
       "    </tr>\n",
       "    <tr>\n",
       "      <th>dermatofibroma</th>\n",
       "      <td>95.0</td>\n",
       "      <td>4.24%</td>\n",
       "    </tr>\n",
       "    <tr>\n",
       "      <th>melanoma</th>\n",
       "      <td>438.0</td>\n",
       "      <td>19.56%</td>\n",
       "    </tr>\n",
       "    <tr>\n",
       "      <th>nevus</th>\n",
       "      <td>357.0</td>\n",
       "      <td>15.94%</td>\n",
       "    </tr>\n",
       "    <tr>\n",
       "      <th>pigmented_benign_keratosis</th>\n",
       "      <td>462.0</td>\n",
       "      <td>20.63%</td>\n",
       "    </tr>\n",
       "    <tr>\n",
       "      <th>seborrheic_keratosis</th>\n",
       "      <td>77.0</td>\n",
       "      <td>3.44%</td>\n",
       "    </tr>\n",
       "    <tr>\n",
       "      <th>squamous_cell_carcinoma</th>\n",
       "      <td>181.0</td>\n",
       "      <td>8.08%</td>\n",
       "    </tr>\n",
       "    <tr>\n",
       "      <th>vascular_lesion</th>\n",
       "      <td>139.0</td>\n",
       "      <td>6.21%</td>\n",
       "    </tr>\n",
       "  </tbody>\n",
       "</table>\n",
       "</div>"
      ],
      "text/plain": [
       "                                0       %\n",
       "actinic_keratosis           114.0   5.09%\n",
       "basal_cell_carcinoma        376.0  16.79%\n",
       "dermatofibroma               95.0   4.24%\n",
       "melanoma                    438.0  19.56%\n",
       "nevus                       357.0  15.94%\n",
       "pigmented_benign_keratosis  462.0  20.63%\n",
       "seborrheic_keratosis         77.0   3.44%\n",
       "squamous_cell_carcinoma     181.0   8.08%\n",
       "vascular_lesion             139.0   6.21%"
      ]
     },
     "execution_count": 20,
     "metadata": {},
     "output_type": "execute_result"
    }
   ],
   "source": [
    "sums"
   ]
  },
  {
   "cell_type": "code",
   "execution_count": 21,
   "id": "2313159a",
   "metadata": {},
   "outputs": [
    {
     "data": {
      "image/png": "[encoded data removed]",
      "text/plain": [
       "<Figure size 432x288 with 1 Axes>"
      ]
     },
     "metadata": {
      "needs_background": "light"
     },
     "output_type": "display_data"
    }
   ],
   "source": [
    "#Change this into seaborn to make it even cooler\n",
    "sums.plot(kind='bar');"
   ]
  },
  {
   "cell_type": "code",
   "execution_count": 22,
   "id": "850b733c",
   "metadata": {},
   "outputs": [
    {
     "data": {
      "text/plain": [
       "{'actinic keratosis': 0,\n",
       " 'basal cell carcinoma': 1,\n",
       " 'dermatofibroma': 2,\n",
       " 'melanoma': 3,\n",
       " 'nevus': 4,\n",
       " 'pigmented benign keratosis': 5,\n",
       " 'seborrheic keratosis': 6,\n",
       " 'squamous cell carcinoma': 7,\n",
       " 'vascular lesion': 8}"
      ]
     },
     "execution_count": 22,
     "metadata": {},
     "output_type": "execute_result"
    }
   ],
   "source": [
    "train_generator.class_indices "
   ]
  },
  {
   "cell_type": "markdown",
   "id": "957d6ba8",
   "metadata": {},
   "source": [
    "Defining a function to visualize the results."
   ]
  },
  {
   "cell_type": "code",
   "execution_count": 23,
   "id": "1b9f2145",
   "metadata": {},
   "outputs": [],
   "source": [
    "def visualize_training_results(results):\n",
    "    history = results.history\n",
    "    plt.figure()\n",
    "    plt.plot(history['val_loss'])\n",
    "    plt.plot(history['loss'])\n",
    "    plt.legend(['val_loss', 'loss'])\n",
    "    plt.title('Loss')\n",
    "    plt.xlabel('Epochs')\n",
    "    plt.ylabel('Loss')\n",
    "    plt.show()\n",
    "    \n",
    "    plt.figure()\n",
    "    plt.plot(history['val_accuracy'])\n",
    "    plt.plot(history['accuracy'])\n",
    "    plt.legend(['val_accuracy', 'accuracy'])\n",
    "    plt.title('Accuracy')\n",
    "    plt.xlabel('Epochs')\n",
    "    plt.ylabel('Accuracy')\n",
    "    plt.show()"
   ]
  },
  {
   "cell_type": "markdown",
   "id": "954baebc",
   "metadata": {},
   "source": [
    "Look at lab on https://github.com/learn-co-curriculum/dsc-image-classification-with-mlps-lab/tree/solution\n",
    "might need to do some one hot encoding.\n",
    "Also, just like it shows there, as a naive model maybe decrease the number of layers and keep epochs at like 5.\n",
    "If results are the same, try to understand why the loss still showes such high peaks.And why the accuracy drops like that.\n",
    "Might also be worth doing CNN from the start with 2D layers instead of this basic NN."
   ]
  },
  {
   "cell_type": "markdown",
   "id": "47dcba41",
   "metadata": {},
   "source": [
    "Let us forget about all of this and try with the 2D actual convolutional neural network for images. The perfmormance there might be different."
   ]
  },
  {
   "cell_type": "markdown",
   "id": "7a6337e7",
   "metadata": {},
   "source": [
    "We can also do something else which is group together the types of skin abnormalities that are cancerous and the ones that are not, reducing the classes to 2 and making this a binary classification problem.\n",
    "I will do that later on. For now let's see what happens with a convolutional neural network, which is what I should be doing anyway."
   ]
  },
  {
   "cell_type": "markdown",
   "id": "45f127c8",
   "metadata": {},
   "source": [
    "Here also definitely preview one image per class and explain a bit about each class."
   ]
  },
  {
   "cell_type": "markdown",
   "id": "45a8f58e",
   "metadata": {},
   "source": [
    "## Preprocessing"
   ]
  },
  {
   "cell_type": "code",
   "execution_count": 24,
   "id": "48b9adb6",
   "metadata": {},
   "outputs": [
    {
     "name": "stdout",
     "output_type": "stream",
     "text": [
      "Found 118 images belonging to 9 classes.\n",
      "Found 2239 images belonging to 9 classes.\n"
     ]
    }
   ],
   "source": [
    "# Directory path\n",
    "train_data_dir = 'dataskin/Train'\n",
    "test_data_dir = 'dataskin/Test'\n",
    "#val_data_dir = 'dataset/validation_set'\n",
    "\n",
    "# Get all the data in the directory data/validation (118 images), and reshape them\n",
    "test_gen= ImageDataGenerator().flow_from_directory(\n",
    "        test_data_dir, target_size=(32, 32), batch_size=118)\n",
    "\n",
    "# Get all the data in the directory data/train (2239 images), and reshape them\n",
    "train_gen = ImageDataGenerator().flow_from_directory(\n",
    "        train_data_dir, target_size=(32, 32), batch_size=2239)\n",
    "\n",
    "# Create the datasets\n",
    "train_img, train_lab = next(train_gen)\n",
    "test_img, test_lab = next(test_gen)"
   ]
  },
  {
   "cell_type": "code",
   "execution_count": 25,
   "id": "839cf66d",
   "metadata": {},
   "outputs": [
    {
     "name": "stdout",
     "output_type": "stream",
     "text": [
      "Number of training samples: 2239\n",
      "Number of testing samples: 118\n",
      "train_images shape: (2239, 32, 32, 3)\n",
      "train_labels shape: (2239, 9)\n",
      "test_images shape: (118, 32, 32, 3)\n",
      "test_labels shape: (118, 9)\n"
     ]
    }
   ],
   "source": [
    "# Explore your dataset again\n",
    "m_train = train_img.shape[0]\n",
    "num_px = train_img.shape[1]\n",
    "m_test = test_img.shape[0]\n",
    "#m_val = val_images.shape[0]\n",
    "\n",
    "print (\"Number of training samples: \" + str(m_train))\n",
    "print (\"Number of testing samples: \" + str(m_test))\n",
    "#print (\"Number of validation samples: \" + str(m_val))\n",
    "print (\"train_images shape: \" + str(train_img.shape))\n",
    "print (\"train_labels shape: \" + str(train_lab.shape))\n",
    "print (\"test_images shape: \" + str(test_img.shape))\n",
    "print (\"test_labels shape: \" + str(test_lab.shape))\n",
    "#print (\"val_images shape: \" + str(val_images.shape))\n",
    "#print (\"val_labels shape: \" + str(val_labels.shape))"
   ]
  },
  {
   "cell_type": "code",
   "execution_count": 26,
   "id": "5a765a90",
   "metadata": {},
   "outputs": [
    {
     "data": {
      "text/plain": [
       "2239"
      ]
     },
     "execution_count": 26,
     "metadata": {},
     "output_type": "execute_result"
    }
   ],
   "source": [
    "train_lab.shape[0]"
   ]
  },
  {
   "cell_type": "code",
   "execution_count": 27,
   "id": "08e9faca",
   "metadata": {},
   "outputs": [],
   "source": [
    "#train_img = train_img.reshape(train_img.shape[0], -1)\n",
    "#test_img = test_img.reshape(test_img.shape[0], -1)\n",
    "#val_img = val_images.reshape(val_images.shape[0], -1)\n",
    "\n",
    "#print(val_img.shape)"
   ]
  },
  {
   "cell_type": "markdown",
   "id": "8bc6d486",
   "metadata": {},
   "source": [
    "As we can see the RGB values of each pixel are not scaled, we are going to scale their value between 0 and 1 by dividing each pixel value by 225,\n",
    "and we are also going to reshape the data in a format that can be fed into the model.\n",
    "We are going to put these two preprocessing steps together with a pipeline."
   ]
  },
  {
   "cell_type": "markdown",
   "id": "07c9f245",
   "metadata": {},
   "source": [
    "#### Here I am going to create my first pipeline \n",
    "to use to scale and reshape the data once I have loaded it\n",
    "Or possibly even a function to load it."
   ]
  },
  {
   "cell_type": "markdown",
   "id": "2b1dab68",
   "metadata": {},
   "source": [
    "to standardize the pixel values:"
   ]
  },
  {
   "cell_type": "code",
   "execution_count": 49,
   "id": "9a16e3be",
   "metadata": {},
   "outputs": [],
   "source": [
    "def scale_pixels(train_img, test_img):\n",
    "    train_img /= 255.\n",
    "    test_img /= 255.\n",
    "    return train_img, test_img"
   ]
  },
  {
   "cell_type": "code",
   "execution_count": 70,
   "id": "49e74c24",
   "metadata": {},
   "outputs": [],
   "source": [
    "# Instantiate transformer\n",
    "pix_scaler = FunctionTransformer(scale_pixels)"
   ]
  },
  {
   "cell_type": "code",
   "execution_count": 71,
   "id": "54bc92ca",
   "metadata": {},
   "outputs": [
    {
     "data": {
      "text/plain": [
       "FunctionTransformer(func=<function scale_pixels at 0x7fe54f2e0d08>)"
      ]
     },
     "execution_count": 71,
     "metadata": {},
     "output_type": "execute_result"
    }
   ],
   "source": [
    "pix_scaler.fit(train_img, test_img)"
   ]
  },
  {
   "cell_type": "code",
   "execution_count": 73,
   "id": "75c35278",
   "metadata": {},
   "outputs": [],
   "source": [
    "#pix_scaler.transform(train_img, test_img)"
   ]
  },
  {
   "cell_type": "code",
   "execution_count": 53,
   "id": "9e70d722",
   "metadata": {},
   "outputs": [],
   "source": [
    "#from sklearn.preprocessing import StandardScaler\n",
    "#StandardScaler().fit_transform(train_img)"
   ]
  },
  {
   "cell_type": "code",
   "execution_count": 54,
   "id": "37a6855e",
   "metadata": {},
   "outputs": [
    {
     "data": {
      "text/plain": [
       "(118, 32, 32, 3)"
      ]
     },
     "execution_count": 54,
     "metadata": {},
     "output_type": "execute_result"
    }
   ],
   "source": [
    "test_img.shape"
   ]
  },
  {
   "cell_type": "code",
   "execution_count": 55,
   "id": "13cfdfef",
   "metadata": {},
   "outputs": [
    {
     "data": {
      "text/plain": [
       "(2239, 32, 32, 3)"
      ]
     },
     "execution_count": 55,
     "metadata": {},
     "output_type": "execute_result"
    }
   ],
   "source": [
    "train_img.shape"
   ]
  },
  {
   "cell_type": "code",
   "execution_count": 56,
   "id": "f5a32136",
   "metadata": {},
   "outputs": [],
   "source": [
    "# Instantiate StandardScaler\n",
    "#scaler = MinMaxScaler()\n",
    "# Transform the training and test sets\n",
    "#scaled_data_train = scaler.fit_transform(train_img)\n",
    "#scaled_data_test = scaler.transform(test_img)\n",
    "\n",
    "# Convert into a DataFrame\n",
    "#scaled_df_train = pd.DataFrame(scaled_data_train, columns=X_train.columns)\n",
    "#scaled_df_train.head()"
   ]
  },
  {
   "cell_type": "code",
   "execution_count": 57,
   "id": "0b8964c0",
   "metadata": {},
   "outputs": [],
   "source": [
    "#scale_pixels(train_img, test_img)"
   ]
  },
  {
   "cell_type": "code",
   "execution_count": 58,
   "id": "c9fd7e4a",
   "metadata": {},
   "outputs": [],
   "source": [
    "#train_img"
   ]
  },
  {
   "cell_type": "markdown",
   "id": "ea929cec",
   "metadata": {},
   "source": [
    "To change the shape of the labels:"
   ]
  },
  {
   "cell_type": "code",
   "execution_count": 59,
   "id": "9dceeba6",
   "metadata": {},
   "outputs": [
    {
     "name": "stdout",
     "output_type": "stream",
     "text": [
      "(2239, 9)\n",
      "(118, 9)\n"
     ]
    }
   ],
   "source": [
    "print(train_lab.shape)\n",
    "print(test_lab.shape)"
   ]
  },
  {
   "cell_type": "code",
   "execution_count": 60,
   "id": "23813aa6",
   "metadata": {},
   "outputs": [],
   "source": [
    "def reshape (train_lab, test_lab):\n",
    "    m=train_lab.shape[0]\n",
    "    n=test_lab.shape[0]\n",
    "    train_lab = np.reshape(train_lab[:,0], (m,1))\n",
    "    test_lab = np.reshape(test_lab[:,0], (n,1))\n",
    "    return train_lab, test_lab"
   ]
  },
  {
   "cell_type": "code",
   "execution_count": 61,
   "id": "bb735009",
   "metadata": {},
   "outputs": [],
   "source": [
    "# Instantiate transformer\n",
    "shaper = FunctionTransformer(reshape)"
   ]
  },
  {
   "cell_type": "code",
   "execution_count": 62,
   "id": "1d041739",
   "metadata": {},
   "outputs": [],
   "source": [
    "#train_y, test_y=reshape(train_lab, test_lab)"
   ]
  },
  {
   "cell_type": "code",
   "execution_count": 63,
   "id": "8db02580",
   "metadata": {},
   "outputs": [
    {
     "name": "stdout",
     "output_type": "stream",
     "text": [
      "(2239, 9)\n",
      "(118, 9)\n"
     ]
    }
   ],
   "source": [
    "print(train_lab.shape)\n",
    "print(test_lab.shape)"
   ]
  },
  {
   "cell_type": "code",
   "execution_count": 66,
   "id": "6bc3fcd2",
   "metadata": {},
   "outputs": [],
   "source": [
    "train_y = np.reshape(train_lab[:,0], (2239,1))\n",
    "test_y = np.reshape(test_lab[:,0], (118,1))"
   ]
  },
  {
   "cell_type": "code",
   "execution_count": 67,
   "id": "4f587f3f",
   "metadata": {},
   "outputs": [
    {
     "name": "stdout",
     "output_type": "stream",
     "text": [
      "(2239, 1)\n",
      "(118, 1)\n"
     ]
    }
   ],
   "source": [
    "print(train_y.shape)\n",
    "print(test_y.shape)"
   ]
  },
  {
   "cell_type": "code",
   "execution_count": null,
   "id": "7c290a8f",
   "metadata": {},
   "outputs": [],
   "source": []
  },
  {
   "cell_type": "code",
   "execution_count": 68,
   "id": "b9209445",
   "metadata": {},
   "outputs": [
    {
     "ename": "TypeError",
     "evalue": "'FunctionTransformer' object is not callable",
     "output_type": "error",
     "traceback": [
      "\u001b[0;31m---------------------------------------------------------------------------\u001b[0m",
      "\u001b[0;31mTypeError\u001b[0m                                 Traceback (most recent call last)",
      "\u001b[0;32m<ipython-input-68-0566a8c2eb03>\u001b[0m in \u001b[0;36m<module>\u001b[0;34m()\u001b[0m\n\u001b[1;32m      1\u001b[0m \u001b[0;31m# Build a pipeline with StandardScaler and KNeighborsClassifier\u001b[0m\u001b[0;34m\u001b[0m\u001b[0;34m\u001b[0m\u001b[0m\n\u001b[0;32m----> 2\u001b[0;31m scale_pipeline = Pipeline([('pixel scaler', pix_scaler(train_img, test_img)),\n\u001b[0m\u001b[1;32m      3\u001b[0m         ('changing shape', shaper(train_lab, test_lab))])\n",
      "\u001b[0;31mTypeError\u001b[0m: 'FunctionTransformer' object is not callable"
     ]
    }
   ],
   "source": [
    "# Build a pipeline with StandardScaler and KNeighborsClassifier\n",
    "scale_pipeline = Pipeline([('pixel scaler', pix_scaler(train_img, test_img)),\n",
    "        ('changing shape', shaper(train_lab, test_lab))])"
   ]
  },
  {
   "cell_type": "code",
   "execution_count": 69,
   "id": "5fbfaa52",
   "metadata": {},
   "outputs": [
    {
     "ename": "NameError",
     "evalue": "name 'scale_pipeline' is not defined",
     "output_type": "error",
     "traceback": [
      "\u001b[0;31m---------------------------------------------------------------------------\u001b[0m",
      "\u001b[0;31mNameError\u001b[0m                                 Traceback (most recent call last)",
      "\u001b[0;32m<ipython-input-69-226686a9a05c>\u001b[0m in \u001b[0;36m<module>\u001b[0;34m()\u001b[0m\n\u001b[0;32m----> 1\u001b[0;31m \u001b[0mscale_pipeline\u001b[0m\u001b[0;34m.\u001b[0m\u001b[0mfit\u001b[0m\u001b[0;34m(\u001b[0m\u001b[0mtrain_img\u001b[0m\u001b[0;34m,\u001b[0m \u001b[0mtest_img\u001b[0m\u001b[0;34m,\u001b[0m \u001b[0mtrain_lab\u001b[0m\u001b[0;34m,\u001b[0m \u001b[0mtest_lab\u001b[0m\u001b[0;34m)\u001b[0m\u001b[0;34m\u001b[0m\u001b[0m\n\u001b[0m",
      "\u001b[0;31mNameError\u001b[0m: name 'scale_pipeline' is not defined"
     ]
    }
   ],
   "source": [
    "scale_pipeline.fit(train_img, test_img, train_lab, test_lab)"
   ]
  },
  {
   "cell_type": "code",
   "execution_count": null,
   "id": "f555187a",
   "metadata": {},
   "outputs": [],
   "source": [
    "def visualize_training_results(results):\n",
    "    history = results.history\n",
    "    plt.figure()\n",
    "    plt.plot(history['val_loss'])\n",
    "    plt.plot(history['loss'])\n",
    "    plt.legend(['val_loss', 'loss'])\n",
    "    plt.title('Loss')\n",
    "    plt.xlabel('Epochs')\n",
    "    plt.ylabel('Loss')\n",
    "    plt.show()\n",
    "    \n",
    "    plt.figure()\n",
    "    plt.plot(history['val_acc'])\n",
    "    plt.plot(history['acc'])\n",
    "    plt.legend(['val_accuracy', 'accuracy'])\n",
    "    plt.title('Accuracy')\n",
    "    plt.xlabel('Epochs')\n",
    "    plt.ylabel('Accuracy')\n",
    "    plt.show()"
   ]
  },
  {
   "cell_type": "code",
   "execution_count": null,
   "id": "edb09dd3",
   "metadata": {},
   "outputs": [],
   "source": [
    "#visualize_training_results(history)"
   ]
  },
  {
   "cell_type": "markdown",
   "id": "62d7b418",
   "metadata": {},
   "source": [
    "Trying with a simple model:"
   ]
  },
  {
   "cell_type": "code",
   "execution_count": null,
   "id": "0a52294f",
   "metadata": {},
   "outputs": [],
   "source": [
    "model = models.Sequential()\n",
    "model.add(layers.Conv2D(10, (3, 3), activation='relu',\n",
    "                        input_shape=(32 ,32,  3)))\n",
    "model.add(layers.MaxPooling2D((2, 2)))\n",
    "\n",
    "model.add(layers.Flatten())\n",
    "model.add(layers.Dense(32, activation='relu'))\n",
    "model.add(layers.Dense(9, activation='softmax'))\n",
    "\n",
    "model.compile(loss='sparse_categorical_crossentropy',\n",
    "              optimizer='rmsprop',\n",
    "              metrics=['acc'])"
   ]
  },
  {
   "cell_type": "markdown",
   "id": "acd59ce2",
   "metadata": {},
   "source": [
    "And doing only 10 epochs:"
   ]
  },
  {
   "cell_type": "code",
   "execution_count": null,
   "id": "ee2d57fa",
   "metadata": {},
   "outputs": [],
   "source": [
    "history1 = model.fit(train_img,\n",
    "                    train_y,\n",
    "                    epochs=10,\n",
    "                    batch_size=10, validation_split=0.3)"
   ]
  },
  {
   "cell_type": "code",
   "execution_count": null,
   "id": "e1d1aac9",
   "metadata": {},
   "outputs": [],
   "source": [
    "visualize_training_results(history1)"
   ]
  },
  {
   "cell_type": "code",
   "execution_count": null,
   "id": "563b67c3",
   "metadata": {},
   "outputs": [],
   "source": [
    "#history1.history['acc']"
   ]
  },
  {
   "cell_type": "code",
   "execution_count": null,
   "id": "0087820d",
   "metadata": {},
   "outputs": [],
   "source": [
    "results=[]\n",
    "results.append('32 bits first model')\n",
    "results.append(['acc train',round(history1.history['acc'][-1],3)])\n",
    "results.append(['acc valid',round(history1.history['val_acc'][-1],3)])\n",
    "results.append(['loss train',round(history1.history['loss'][-1],3)])\n",
    "results.append(['loss valid',round(history1.history['val_loss'][-1],3)])"
   ]
  },
  {
   "cell_type": "code",
   "execution_count": null,
   "id": "e81dec19",
   "metadata": {},
   "outputs": [],
   "source": [
    "results"
   ]
  },
  {
   "cell_type": "code",
   "execution_count": null,
   "id": "82d4243d",
   "metadata": {},
   "outputs": [],
   "source": [
    "# Build a pipeline with StandardScaler and KNeighborsClassifier\n",
    "scaled_pipeline_1 = Pipeline([('ssc', StandardScaler()), ('KNN', KNeighborsClassifier())])"
   ]
  },
  {
   "cell_type": "code",
   "execution_count": null,
   "id": "3600e687",
   "metadata": {},
   "outputs": [],
   "source": [
    "# Fit the training data to pipeline\n",
    "scaled_pipeline_1.fit(X_train, y_train)\n",
    "\n",
    "# Print the accuracy on test set\n",
    "scaled_pipeline_1.score(X_test, y_test)"
   ]
  },
  {
   "cell_type": "markdown",
   "id": "414a29c6",
   "metadata": {},
   "source": [
    "Let me try with a larger batch size:"
   ]
  },
  {
   "cell_type": "code",
   "execution_count": null,
   "id": "e1aba687",
   "metadata": {},
   "outputs": [],
   "source": [
    "history2 = model.fit(train_img,\n",
    "                    train_y,\n",
    "                    epochs=10,\n",
    "                    batch_size=50, validation_split=0.2)"
   ]
  },
  {
   "cell_type": "code",
   "execution_count": null,
   "id": "7834e890",
   "metadata": {},
   "outputs": [],
   "source": [
    "visualize_training_results(history2)"
   ]
  },
  {
   "cell_type": "code",
   "execution_count": null,
   "id": "ecdd9d8f",
   "metadata": {},
   "outputs": [],
   "source": [
    "results.append('32 bits second model, larger batch')\n",
    "results.append(['acc train',round(history2.history['acc'][-1],3)])\n",
    "results.append(['acc valid',round(history2.history['val_acc'][-1],3)])\n",
    "results.append(['loss train',round(history2.history['loss'][-1],3)])\n",
    "results.append(['loss valid',round(history2.history['val_loss'][-1],3)])\n",
    "results"
   ]
  },
  {
   "cell_type": "markdown",
   "id": "a531b27c",
   "metadata": {},
   "source": [
    "Another attempt: all the previous parameters but making the last dense layer smaller."
   ]
  },
  {
   "cell_type": "code",
   "execution_count": null,
   "id": "02e04f35",
   "metadata": {},
   "outputs": [],
   "source": [
    "model2 = models.Sequential()\n",
    "model2.add(layers.Conv2D(10, (3, 3), activation='relu',\n",
    "                        input_shape=(32 ,32,  3)))\n",
    "model2.add(layers.MaxPooling2D((2, 2)))\n",
    "\n",
    "model2.add(layers.Flatten())\n",
    "model2.add(layers.Dense(10, activation='relu'))\n",
    "model2.add(layers.Dense(9, activation='softmax'))\n",
    "\n",
    "model2.compile(loss='sparse_categorical_crossentropy',\n",
    "              optimizer='rmsprop',\n",
    "              metrics=['acc'])"
   ]
  },
  {
   "cell_type": "code",
   "execution_count": null,
   "id": "35fe0e7a",
   "metadata": {},
   "outputs": [],
   "source": [
    "history3 = model2.fit(train_img,\n",
    "                    train_y,\n",
    "                    epochs=10,\n",
    "                    batch_size=50, validation_split=0.2)"
   ]
  },
  {
   "cell_type": "code",
   "execution_count": null,
   "id": "8f91cd95",
   "metadata": {},
   "outputs": [],
   "source": [
    "visualize_training_results(history3)"
   ]
  },
  {
   "cell_type": "code",
   "execution_count": null,
   "id": "1df42a22",
   "metadata": {},
   "outputs": [],
   "source": [
    "results.append('32 bits third model, less neurons in last layer')\n",
    "results.append(['acc train',round(history3.history['acc'][-1],3)])\n",
    "results.append(['acc valid',round(history3.history['val_acc'][-1],3)])\n",
    "results.append(['loss train',round(history3.history['loss'][-1],3)])\n",
    "results.append(['loss valid',round(history3.history['val_loss'][-1],3)])\n",
    "results"
   ]
  },
  {
   "cell_type": "markdown",
   "id": "c8c9a807",
   "metadata": {},
   "source": [
    "Even less Neurons:"
   ]
  },
  {
   "cell_type": "code",
   "execution_count": null,
   "id": "23baa7dd",
   "metadata": {},
   "outputs": [],
   "source": [
    "model3 = models.Sequential()\n",
    "model3.add(layers.Conv2D(5, (3, 3), activation='relu',\n",
    "                        input_shape=(32 ,32,  3)))\n",
    "model3.add(layers.MaxPooling2D((2, 2)))\n",
    "\n",
    "model3.add(layers.Flatten())\n",
    "model3.add(layers.Dense(5, activation='relu'))\n",
    "model3.add(layers.Dense(9, activation='softmax'))\n",
    "\n",
    "model3.compile(loss='sparse_categorical_crossentropy',\n",
    "              optimizer='rmsprop',\n",
    "              metrics=['acc'])"
   ]
  },
  {
   "cell_type": "code",
   "execution_count": null,
   "id": "187e056e",
   "metadata": {},
   "outputs": [],
   "source": [
    "history4 = model3.fit(train_img,\n",
    "                    train_y,\n",
    "                    epochs=10,\n",
    "                    batch_size=50, validation_split=0.2)"
   ]
  },
  {
   "cell_type": "code",
   "execution_count": null,
   "id": "539c84d9",
   "metadata": {},
   "outputs": [],
   "source": [
    "visualize_training_results(history4)"
   ]
  },
  {
   "cell_type": "code",
   "execution_count": null,
   "id": "554937d5",
   "metadata": {},
   "outputs": [],
   "source": [
    "results.append('32 bits fourth model, less neurons overall')\n",
    "results.append(['acc train',round(history4.history['acc'][-1],3)])\n",
    "results.append(['acc valid',round(history4.history['val_acc'][-1],3)])\n",
    "results.append(['loss train',round(history4.history['loss'][-1],3)])\n",
    "results.append(['loss valid',round(history4.history['val_loss'][-1],3)])\n",
    "results"
   ]
  },
  {
   "cell_type": "markdown",
   "id": "aea4a720",
   "metadata": {},
   "source": [
    "#### No sorry one more thing. Even less resolution images."
   ]
  },
  {
   "cell_type": "code",
   "execution_count": null,
   "id": "05c87efa",
   "metadata": {},
   "outputs": [],
   "source": [
    "# Directory path\n",
    "train_data_dir = 'dataskin/Train'\n",
    "test_data_dir = 'dataskin/Test'\n",
    "#val_data_dir = 'dataset/validation_set'\n",
    "\n",
    "# Get all the data in the directory data/validation (118 images), and reshape them\n",
    "test_gen= ImageDataGenerator().flow_from_directory(\n",
    "        test_data_dir, target_size=(8, 8), batch_size=118)\n",
    "\n",
    "# Get all the data in the directory data/train (2239 images), and reshape them\n",
    "train_gen = ImageDataGenerator().flow_from_directory(\n",
    "        train_data_dir, target_size=(8, 8), batch_size=2239)\n",
    "\n",
    "# Create the datasets\n",
    "train_img, train_lab = next(train_gen)\n",
    "test_img, test_lab = next(test_gen)"
   ]
  },
  {
   "cell_type": "code",
   "execution_count": null,
   "id": "6d5dc666",
   "metadata": {},
   "outputs": [],
   "source": [
    "# Explore your dataset again\n",
    "m_train = train_img.shape[0]\n",
    "num_px = train_img.shape[1]\n",
    "m_test = test_img.shape[0]\n",
    "#m_val = val_images.shape[0]\n",
    "\n",
    "print (\"Number of training samples: \" + str(m_train))\n",
    "print (\"Number of testing samples: \" + str(m_test))\n",
    "#print (\"Number of validation samples: \" + str(m_val))\n",
    "print (\"train_images shape: \" + str(train_img.shape))\n",
    "print (\"train_labels shape: \" + str(train_lab.shape))\n",
    "print (\"test_images shape: \" + str(test_img.shape))\n",
    "print (\"test_labels shape: \" + str(test_lab.shape))"
   ]
  },
  {
   "cell_type": "code",
   "execution_count": null,
   "id": "3bf59092",
   "metadata": {},
   "outputs": [],
   "source": [
    "train_y = np.reshape(train_lab[:,0], (2239,1))\n",
    "test_y = np.reshape(test_lab[:,0], (118,1))"
   ]
  },
  {
   "cell_type": "code",
   "execution_count": null,
   "id": "e3bf32dd",
   "metadata": {},
   "outputs": [],
   "source": [
    "model5 = models.Sequential()\n",
    "model5.add(layers.Conv2D(3, (3, 3), activation='relu',\n",
    "                        input_shape=(8 ,8,  3)))\n",
    "model5.add(layers.MaxPooling2D((2, 2)))\n",
    "\n",
    "model5.add(layers.Flatten())\n",
    "#model5.add(layers.Dense(3, activation='relu'))\n",
    "model5.add(layers.Dense(9, activation='softmax'))\n",
    "\n",
    "model5.compile(loss='sparse_categorical_crossentropy',\n",
    "              optimizer='rmsprop',\n",
    "              metrics=['acc'])"
   ]
  },
  {
   "cell_type": "code",
   "execution_count": null,
   "id": "21abcb6d",
   "metadata": {},
   "outputs": [],
   "source": [
    "history5 = model5.fit(train_img,\n",
    "                    train_y,\n",
    "                    epochs=10,\n",
    "                    batch_size=10, validation_split=0.3)"
   ]
  },
  {
   "cell_type": "code",
   "execution_count": null,
   "id": "68adcb9b",
   "metadata": {},
   "outputs": [],
   "source": [
    "visualize_training_results(history5)"
   ]
  },
  {
   "cell_type": "code",
   "execution_count": null,
   "id": "6f1a9a60",
   "metadata": {},
   "outputs": [],
   "source": [
    "results.append('8 bits fifth model')\n",
    "results.append(['acc train',round(history5.history['acc'][-1],3)])\n",
    "results.append(['acc valid',round(history5.history['val_acc'][-1],3)])\n",
    "results.append(['loss train',round(history5.history['loss'][-1],3)])\n",
    "results.append(['loss valid',round(history5.history['val_loss'][-1],3)])\n",
    "results"
   ]
  },
  {
   "cell_type": "markdown",
   "id": "a893dd8e",
   "metadata": {},
   "source": [
    "Let me try to decrease the batch size already from the import, see if is changes anything."
   ]
  },
  {
   "cell_type": "code",
   "execution_count": null,
   "id": "62bab2b4",
   "metadata": {},
   "outputs": [],
   "source": [
    "# Directory path\n",
    "train_data_dir = 'dataskin/Train'\n",
    "test_data_dir = 'dataskin/Test'\n",
    "#val_data_dir = 'dataset/validation_set'\n",
    "\n",
    "# Get all the data in the directory data/validation (118 images), and reshape them\n",
    "test_gen= ImageDataGenerator().flow_from_directory(\n",
    "        test_data_dir, target_size=(8, 8), batch_size=5)\n",
    "\n",
    "# Get all the data in the directory data/train (2239 images), and reshape them\n",
    "train_gen = ImageDataGenerator().flow_from_directory(\n",
    "        train_data_dir, target_size=(8, 8), batch_size=20)\n",
    "\n",
    "# Create the datasets\n",
    "train_img, train_lab = next(train_gen)\n",
    "test_img, test_lab = next(test_gen)"
   ]
  },
  {
   "cell_type": "code",
   "execution_count": null,
   "id": "3e4d5116",
   "metadata": {},
   "outputs": [],
   "source": [
    "train_y = np.reshape(train_lab[:,0], (20,1))\n",
    "test_y = np.reshape(test_lab[:,0], (5,1))"
   ]
  },
  {
   "cell_type": "code",
   "execution_count": null,
   "id": "dd7ecf49",
   "metadata": {},
   "outputs": [],
   "source": [
    "history6 = model5.fit(train_img,\n",
    "                    train_y,\n",
    "                    epochs=10,\n",
    "                    batch_size=10, validation_split=0.3)"
   ]
  },
  {
   "cell_type": "code",
   "execution_count": null,
   "id": "ce095b88",
   "metadata": {},
   "outputs": [],
   "source": [
    "visualize_training_results(history6)"
   ]
  },
  {
   "cell_type": "code",
   "execution_count": null,
   "id": "cfb2de73",
   "metadata": {},
   "outputs": [],
   "source": [
    "results.append('8 bits fifth model smaller batch on import')\n",
    "results.append(['acc train',round(history6.history['acc'][-1],3)])\n",
    "results.append(['acc valid',round(history6.history['val_acc'][-1],3)])\n",
    "results.append(['loss train',round(history6.history['loss'][-1],3)])\n",
    "results.append(['loss valid',round(history6.history['val_loss'][-1],3)])\n",
    "results"
   ]
  },
  {
   "cell_type": "code",
   "execution_count": null,
   "id": "cbc71ce4",
   "metadata": {},
   "outputs": [],
   "source": []
  },
  {
   "cell_type": "markdown",
   "id": "22f9945e",
   "metadata": {},
   "source": [
    "The good news is that even if the results change a lot in the first part where I do regualr NN, every time I run the code, they don't change so radically with the CNN.\n",
    "I will keep track a bit but overall it seems like I can stop worrying about reproducibe results, if I use CNN right away."
   ]
  },
  {
   "cell_type": "markdown",
   "id": "20eb857c",
   "metadata": {},
   "source": [
    "## Starting to improve our model:"
   ]
  },
  {
   "cell_type": "markdown",
   "id": "5787a732",
   "metadata": {},
   "source": [
    "Taking from the german signs notebook"
   ]
  },
  {
   "cell_type": "markdown",
   "id": "6803e23a",
   "metadata": {},
   "source": [
    "Nope. It's in AWS Sagemaker. But I can look back at it and use either a simple pipeline for loading and changing the size of the images, or for images augmentation to balance the classes of the different skin anomalies.\n",
    "<br>A simple pipeline can even be \"load, normalize, augment\"."
   ]
  },
  {
   "cell_type": "markdown",
   "id": "96be90fe",
   "metadata": {},
   "source": [
    "#### To improve our model we will take several steps:\n",
    "   - normalize the data \n",
    "   - increase image resolution\n",
    "   - add more epochs\n",
    "   - add more layers\n",
    "   - increase the batch size\n",
    "   - change activation function and optimization\n",
    "    \n",
    "After we have done all this we will select the best performing model and we will also group up into 2 classes, cancerous and benign growth too.\n",
    "<br>Maybe I should do that now actually.\n",
    "<br>No I will do it after this first selection so I can say I have a good model to predict which of the 9 classes with this much accuracy.\n",
    "<br>And then introduce the concept of two classes and decreasing recall.\n",
    "<br>After that anyhow, do another round of tuning for the model, this time using:\n",
    " - drop out layers\n",
    " - regularization\n",
    " - normalization\n",
    " - data augmentation\n",
    " - balancing classes with data augmentation\n",
    " "
   ]
  },
  {
   "cell_type": "markdown",
   "id": "a1fc5937",
   "metadata": {},
   "source": [
    "### Improving the model with 9 classes:"
   ]
  },
  {
   "cell_type": "markdown",
   "id": "e5932be6",
   "metadata": {},
   "source": [
    "#### Normalize the data:"
   ]
  },
  {
   "cell_type": "markdown",
   "id": "c766612d",
   "metadata": {},
   "source": [
    "To standardize the pixel values:"
   ]
  },
  {
   "cell_type": "code",
   "execution_count": null,
   "id": "211f1a53",
   "metadata": {},
   "outputs": [],
   "source": []
  },
  {
   "cell_type": "code",
   "execution_count": null,
   "id": "a257bf17",
   "metadata": {},
   "outputs": [],
   "source": [
    "train_img"
   ]
  },
  {
   "cell_type": "code",
   "execution_count": null,
   "id": "ae97c37c",
   "metadata": {},
   "outputs": [],
   "source": [
    "history52 = model5.fit(train_img,\n",
    "                    train_y,\n",
    "                    epochs=10,\n",
    "                    batch_size=10, validation_split=0.3)"
   ]
  },
  {
   "cell_type": "code",
   "execution_count": null,
   "id": "277b74fc",
   "metadata": {},
   "outputs": [],
   "source": [
    "visualize_training_results(history52)"
   ]
  },
  {
   "cell_type": "code",
   "execution_count": null,
   "id": "34715547",
   "metadata": {},
   "outputs": [],
   "source": [
    "results.append('8 bits 5th model, normalized pixels')\n",
    "results.append(['acc train',round(history52.history['acc'][-1],3)])\n",
    "results.append(['acc valid',round(history52.history['val_acc'][-1],3)])\n",
    "results.append(['loss train',round(history52.history['loss'][-1],3)])\n",
    "results.append(['loss valid',round(history52.history['val_loss'][-1],3)])\n",
    "results"
   ]
  },
  {
   "cell_type": "markdown",
   "id": "36f91927",
   "metadata": {},
   "source": [
    "#### Increasing Image resolution:"
   ]
  },
  {
   "cell_type": "code",
   "execution_count": null,
   "id": "0ab756ac",
   "metadata": {},
   "outputs": [],
   "source": [
    "# Directory path\n",
    "train_data_dir = 'dataskin/Train'\n",
    "test_data_dir = 'dataskin/Test'\n",
    "#val_data_dir = 'dataset/validation_set'\n",
    "\n",
    "# Get all the data in the directory data/validation (118 images), and reshape them\n",
    "test_gen= ImageDataGenerator().flow_from_directory(\n",
    "        test_data_dir, target_size=(64, 64), batch_size=118)\n",
    "\n",
    "# Get all the data in the directory data/train (2239 images), and reshape them\n",
    "train_gen = ImageDataGenerator().flow_from_directory(\n",
    "        train_data_dir, target_size=(64, 64), batch_size=2239)\n",
    "\n",
    "# Create the datasets\n",
    "train_img, train_lab = next(train_gen)\n",
    "test_img, test_lab = next(test_gen)\n",
    "#normalizing again\n",
    "train_img /= 255.\n",
    "test_img /= 255."
   ]
  },
  {
   "cell_type": "code",
   "execution_count": null,
   "id": "81f2b587",
   "metadata": {},
   "outputs": [],
   "source": [
    "train_y = np.reshape(train_lab[:,0], (2239,1))\n",
    "test_y = np.reshape(test_lab[:,0], (118,1))"
   ]
  },
  {
   "cell_type": "code",
   "execution_count": null,
   "id": "dcc5e292",
   "metadata": {},
   "outputs": [],
   "source": [
    "model6 = models.Sequential()\n",
    "model6.add(layers.Conv2D(3, (3, 3), activation='relu',\n",
    "                        input_shape=(64, 64, 3)))\n",
    "model6.add(layers.MaxPooling2D((2, 2)))\n",
    "\n",
    "model6.add(layers.Flatten())\n",
    "#model5.add(layers.Dense(3, activation='relu'))\n",
    "model6.add(layers.Dense(9, activation='softmax'))\n",
    "\n",
    "model6.compile(loss='sparse_categorical_crossentropy',\n",
    "              optimizer='rmsprop',\n",
    "              metrics=['acc'])"
   ]
  },
  {
   "cell_type": "code",
   "execution_count": null,
   "id": "93502dd2",
   "metadata": {},
   "outputs": [],
   "source": [
    "history6b = model6.fit(train_img,\n",
    "                    train_y,\n",
    "                    epochs=10,\n",
    "                    batch_size=10, validation_split=0.3)"
   ]
  },
  {
   "cell_type": "code",
   "execution_count": null,
   "id": "53373daa",
   "metadata": {},
   "outputs": [],
   "source": [
    "visualize_training_results(history6b)"
   ]
  },
  {
   "cell_type": "code",
   "execution_count": null,
   "id": "658505e6",
   "metadata": {},
   "outputs": [],
   "source": [
    "results.append('64 bits 6th model, same as last one')\n",
    "results.append(['acc train',round(history6b.history['acc'][-1],3)])\n",
    "results.append(['acc valid',round(history6b.history['val_acc'][-1],3)])\n",
    "results.append(['loss train',round(history6b.history['loss'][-1],3)])\n",
    "results.append(['loss valid',round(history6b.history['val_loss'][-1],3)])\n",
    "results"
   ]
  },
  {
   "cell_type": "markdown",
   "id": "f10f1802",
   "metadata": {},
   "source": [
    "#### Increasing number of epochs:"
   ]
  },
  {
   "cell_type": "code",
   "execution_count": null,
   "id": "fbadf3d8",
   "metadata": {},
   "outputs": [],
   "source": [
    "history7 = model6.fit(train_img,\n",
    "                    train_y,\n",
    "                    epochs=30,\n",
    "                    batch_size=10, validation_split=0.3)"
   ]
  },
  {
   "cell_type": "code",
   "execution_count": null,
   "id": "540ec3e4",
   "metadata": {},
   "outputs": [],
   "source": [
    "visualize_training_results(history7)"
   ]
  },
  {
   "cell_type": "code",
   "execution_count": null,
   "id": "6199ddca",
   "metadata": {},
   "outputs": [],
   "source": [
    "results.append('64 bits 6th model, 30 epochs')\n",
    "results.append(['acc train',round(history7.history['acc'][-1],3)])\n",
    "results.append(['acc valid',round(history7.history['val_acc'][-1],3)])\n",
    "results.append(['loss train',round(history7.history['loss'][-1],3)])\n",
    "results.append(['loss valid',round(history7.history['val_loss'][-1],3)])\n",
    "results"
   ]
  },
  {
   "cell_type": "markdown",
   "id": "b02dafab",
   "metadata": {},
   "source": [
    "#### Adding more layers:"
   ]
  },
  {
   "cell_type": "code",
   "execution_count": null,
   "id": "771585ff",
   "metadata": {},
   "outputs": [],
   "source": [
    "model = models.Sequential()\n",
    "model.add(layers.Conv2D(10, (3, 3), activation='relu',\n",
    "                        input_shape=(64 ,64,  3)))\n",
    "model.add(layers.MaxPooling2D((2, 2)))\n",
    "\n",
    "model.add(layers.Conv2D(10, (4, 4), activation='relu'))\n",
    "model.add(layers.MaxPooling2D((2, 2)))\n",
    "\n",
    "model.add(layers.Conv2D(32, (3, 3), activation='relu'))\n",
    "model.add(layers.MaxPooling2D((2, 2)))\n",
    "\n",
    "model.add(layers.Flatten())\n",
    "model.add(layers.Dense(32, activation='relu'))\n",
    "model.add(layers.Dense(9, activation='softmax'))\n",
    "\n",
    "model.compile(loss='sparse_categorical_crossentropy',\n",
    "              optimizer='rmsprop',\n",
    "              metrics=['acc'])"
   ]
  },
  {
   "cell_type": "code",
   "execution_count": null,
   "id": "1cadf69a",
   "metadata": {},
   "outputs": [],
   "source": [
    "history8 = model.fit(train_img,\n",
    "                    train_y,\n",
    "                    epochs=30,\n",
    "                    batch_size=10, validation_split=0.3)"
   ]
  },
  {
   "cell_type": "code",
   "execution_count": null,
   "id": "fc762ed9",
   "metadata": {},
   "outputs": [],
   "source": [
    "visualize_training_results(history8)"
   ]
  },
  {
   "cell_type": "code",
   "execution_count": null,
   "id": "6e8834ac",
   "metadata": {},
   "outputs": [],
   "source": [
    "results.append('64 bits 6th model, 30 epochs, more layers')\n",
    "results.append(['acc train',round(history8.history['acc'][-1],3)])\n",
    "results.append(['acc valid',round(history8.history['val_acc'][-1],3)])\n",
    "results.append(['loss train',round(history8.history['loss'][-1],3)])\n",
    "results.append(['loss valid',round(history8.history['val_loss'][-1],3)])\n",
    "results"
   ]
  },
  {
   "cell_type": "markdown",
   "id": "c365c69c",
   "metadata": {},
   "source": [
    "#### Increase the batch size:"
   ]
  },
  {
   "cell_type": "code",
   "execution_count": null,
   "id": "0425e5b7",
   "metadata": {},
   "outputs": [],
   "source": [
    "history9 = model.fit(train_img,\n",
    "                    train_y,\n",
    "                    epochs=30,\n",
    "                    batch_size=50, validation_split=0.3)"
   ]
  },
  {
   "cell_type": "code",
   "execution_count": null,
   "id": "9448464e",
   "metadata": {},
   "outputs": [],
   "source": [
    "y_hat_train=model.predict(train_img)\n",
    "y_hat_test=model.predict(test_img)"
   ]
  },
  {
   "cell_type": "code",
   "execution_count": null,
   "id": "8919cfd3",
   "metadata": {},
   "outputs": [],
   "source": [
    "y_hat_train"
   ]
  },
  {
   "cell_type": "markdown",
   "id": "dcf777db",
   "metadata": {},
   "source": [
    "Clearly here I have to round to get the actual prediction for the class."
   ]
  },
  {
   "cell_type": "code",
   "execution_count": null,
   "id": "ef0c9ca2",
   "metadata": {},
   "outputs": [],
   "source": [
    "train_labels"
   ]
  },
  {
   "cell_type": "code",
   "execution_count": null,
   "id": "eff2f0e5",
   "metadata": {},
   "outputs": [],
   "source": [
    "from sklearn.metrics import precision_score, recall_score, accuracy_score, f1_score\n",
    "\n",
    "pr_train=precision_score(train_labels, train_labels, average=None)\n",
    "#rec_train=recall_score(train_labels, y_hat_train)\n",
    "#acc_train=accuracy_score(train_labels, y_hat_train)\n",
    "#f1_train=f1_score(train_labels, y_hat_train)\n",
    "\n",
    "#pr_test=precision_score(test_labels, y_hat_test)\n",
    "#rec_test=recall_score(test_labels, y_hat_test)\n",
    "#acc_test=accuracy_score(test_labels, y_hat_test)\n",
    "#f1_test=f1_score(test_labels, y_hat_test)\n",
    "pr_train\n",
    "#print(\"Train: \\nprecision\", pr_train,\"\\nrecall:\", rec_train, '\\naccuracy:', acc_train, '\\nf1 score:', f1_train,'\\n')\n",
    "#print(\"Test: \\nprecision\", pr_test,\"\\nrecall:\", rec_test, '\\naccuracy:', acc_test, '\\nf1 score:', f1_test)"
   ]
  },
  {
   "cell_type": "code",
   "execution_count": null,
   "id": "433be1c2",
   "metadata": {},
   "outputs": [],
   "source": [
    "visualize_training_results(history9)"
   ]
  },
  {
   "cell_type": "code",
   "execution_count": null,
   "id": "677f1476",
   "metadata": {},
   "outputs": [],
   "source": [
    "results.append('64 bits 6th model, increased batch size')\n",
    "results.append(['acc train',round(history9.history['acc'][-1],3)])\n",
    "results.append(['acc valid',round(history9.history['val_acc'][-1],3)])\n",
    "results.append(['loss train',round(history9.history['loss'][-1],3)])\n",
    "results.append(['loss valid',round(history9.history['val_loss'][-1],3)])\n",
    "results"
   ]
  },
  {
   "cell_type": "markdown",
   "id": "c68308b4",
   "metadata": {},
   "source": [
    "#### Changing activation functions and optimizations:\n",
    "Some of the options for activation functions are:\n",
    "<br>relu\n",
    "<br>swish\n",
    "<br>softmax\n",
    "<br>leaky relu\n",
    "<br>sigmoid\n",
    "\n",
    "<br>for optimizers:\n",
    "<br>adam, sgd, \n",
    "<br>with optimizer I can also tweak the learning rate\n",
    "\n",
    "<br>for loss functions:\n",
    "categorical_crossentropy, \n"
   ]
  },
  {
   "cell_type": "code",
   "execution_count": null,
   "id": "e4d895ef",
   "metadata": {},
   "outputs": [],
   "source": [
    "model = models.Sequential()\n",
    "model.add(layers.Conv2D(10, (3, 3), activation='relu',\n",
    "                        input_shape=(64 ,64,  3)))\n",
    "model.add(layers.MaxPooling2D((2, 2)))\n",
    "\n",
    "model.add(layers.Conv2D(10, (4, 4), activation='relu'))\n",
    "model.add(layers.MaxPooling2D((2, 2)))\n",
    "\n",
    "model.add(layers.Conv2D(32, (3, 3), activation='relu'))\n",
    "model.add(layers.MaxPooling2D((2, 2)))\n",
    "\n",
    "model.add(layers.Flatten())\n",
    "model.add(layers.Dense(32, activation='relu'))\n",
    "model.add(layers.Dense(9, activation='softmax'))\n",
    "\n",
    "model.compile(loss='sparse_categorical_crossentropy',\n",
    "              optimizer='sgd',\n",
    "              metrics=['acc'])"
   ]
  },
  {
   "cell_type": "code",
   "execution_count": null,
   "id": "ea561083",
   "metadata": {},
   "outputs": [],
   "source": []
  },
  {
   "cell_type": "code",
   "execution_count": null,
   "id": "c095aadd",
   "metadata": {},
   "outputs": [],
   "source": []
  },
  {
   "cell_type": "markdown",
   "id": "83307471",
   "metadata": {},
   "source": [
    "maybe Even make a graph with this learning curve.\n",
    "Can do it within the pipeline?"
   ]
  },
  {
   "cell_type": "code",
   "execution_count": null,
   "id": "177dc288",
   "metadata": {},
   "outputs": [],
   "source": [
    "\n",
    "#sklearn.preprocessing.minmax_scale(X, feature_range=(0, 1), axis=0, copy=True)"
   ]
  },
  {
   "cell_type": "code",
   "execution_count": null,
   "id": "e8de1a6a",
   "metadata": {},
   "outputs": [],
   "source": []
  },
  {
   "cell_type": "code",
   "execution_count": null,
   "id": "cb1ec9d5",
   "metadata": {},
   "outputs": [],
   "source": []
  }
 ],
 "metadata": {
  "kernelspec": {
   "display_name": "Python [conda env:learn-env] *",
   "language": "python",
   "name": "conda-env-learn-env-py"
  },
  "language_info": {
   "codemirror_mode": {
    "name": "ipython",
    "version": 3
   },
   "file_extension": ".py",
   "mimetype": "text/x-python",
   "name": "python",
   "nbconvert_exporter": "python",
   "pygments_lexer": "ipython3",
   "version": "3.6.6"
  }
 },
 "nbformat": 4,
 "nbformat_minor": 5
}
